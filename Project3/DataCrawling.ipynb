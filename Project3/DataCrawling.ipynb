{
 "cells": [
  {
   "cell_type": "code",
   "execution_count": 1,
   "metadata": {},
   "outputs": [],
   "source": [
    "import urllib.request\n",
    "import json\n",
    "import re\n",
    "from urllib.error import HTTPError\n",
    "from copy import deepcopy"
   ]
  },
  {
   "cell_type": "code",
   "execution_count": 2,
   "metadata": {},
   "outputs": [],
   "source": [
    "sites = ['https://www.reuters.com/', 'https://www.afp.com/', 'http://headlinespot.com/', 'http://www.abyznewslinks.com/', 'http://www.lefigaro.fr/', 'https://www.theguardian.com']"
   ]
  },
  {
   "cell_type": "code",
   "execution_count": 16,
   "metadata": {},
   "outputs": [
    {
     "name": "stdout",
     "output_type": "stream",
     "text": [
      "https://www.reuters.com/\n",
      "https://www.afp.com/\n",
      "http://headlinespot.com/\n",
      "http://www.abyznewslinks.com/\n",
      "http://www.lefigaro.fr/\n",
      "https://www.theguardian.com\n"
     ]
    }
   ],
   "source": [
    "dct = {}\n",
    "for site in sites:\n",
    "    print(site)\n",
    "    try:\n",
    "        html = urllib.request.urlopen(site).read().decode('utf-8')\n",
    "    except UnicodeDecodeError:\n",
    "        html = urllib.request.urlopen(site).read().decode('cp1252')\n",
    "    except:\n",
    "        continue\n",
    "    adds = re.findall(\"<a href=\\\"(.+?)\\\"\", html)\n",
    "    dct[site] = adds"
   ]
  },
  {
   "cell_type": "code",
   "execution_count": 17,
   "metadata": {
    "scrolled": true
   },
   "outputs": [
    {
     "name": "stdout",
     "output_type": "stream",
     "text": [
      "https://www.reuters.com/subjects/aerospace-and-defense\n",
      "https://www.reuters.com/finance/markets/us\n",
      "https://www.reuters.com/finance/deals\n",
      "https://www.reuters.com/markets/bonds\n",
      "https://www.reuters.com/finance/markets/asia\n",
      "https://www.reuters.com/subjects/banks\n",
      "https://www.reuters.com/finance/markets/europe\n",
      "https://www.reuters.com/finance/summits\n",
      "https://www.reuters.com/finance/markets\n",
      "https://www.reuters.com/subjects/autos\n",
      "https://www.reuters.com/finance/global-market-data\n",
      "https://www.reuters.com/markets/stocks\n",
      "https://www.afp.com/fr/lagence/propos/lafp-en-chiffres\n",
      "https://www.afp.com/fr/propos-de-lafp\n",
      "https://www.afp.com/fr/rejoignez-nous\n",
      "https://www.afp.com/fr/lagence/propos/lafp-en-images\n",
      "https://www.afp.com/fr/produits-services\n",
      "https://www.afp.com/fr/lagence/propos/lafp-dans-le-monde\n",
      "https://www.afp.com/fr/lagence/prix-et-recompenses\n",
      "https://www.afp.com/fr/lagence/communiques-de-presse\n",
      "https://www.afp.com/fr/rapport_d_activite_2017\n",
      "https://www.afp.com/fr/lagence/charte\n",
      "https://www.afp.com/fr/lagence/propos/les-gouvernances\n",
      "https://www.afp.com/fr/lagence/equipe-dirigeante\n",
      "https://www.afp.com/fr/plateforme-de-linfo\n",
      "https://www.afp.com/fr/lagence/le-circuit-de-linfo\n",
      "https://www.afp.com/fr/lagence/medialab\n",
      "https://www.afp.com/fr/lagence/lafp-en-dates\n",
      "https://www.afp.com/fr/lagence/filiales\n",
      "http://headlinespot.com/exhibits/\n",
      "http://headlinespot.com/lists/index.html\n",
      "http://headlinespot.com/c/feedback.htm\n",
      "http://headlinespot.com/type/photos/\n",
      "http://headlinespot.com/subject/government/\n",
      "http://headlinespot.com/site/googlesearchbox.htm\n",
      "https://www.theguardian.com/us-news/2018/dec/24/trump-democrats-government-shutdown-markets-chaos\n",
      "https://www.theguardian.com/world/2018/dec/24/sunda-strait-tsunami-volcano-indonesia\n",
      "https://www.theguardian.com/world/2018/dec/23/pop-band-devastated-by-indonesia-tsunami-pays-tribute-to-dead-members\n",
      "https://www.theguardian.com/world/2018/dec/25/mexican-governor-and-senator-killed-in-helicopter-crash\n",
      "https://www.theguardian.com/global/video/2018/dec/24/anak-krakatau-volcano-erupts-before-and-after-tsunami-video\n",
      "https://www.theguardian.com/culture/2018/dec/24/kevin-spacey-alleged-sexual-assault-teenager-allegations\n",
      "https://www.theguardian.com/world/2018/dec/24/what-caused-the-tsunami-in-indonesia-and-why-was-there-no-warning\n",
      "https://www.theguardian.com/world/2018/dec/25/china-refuses-to-release-detained-canadians-despite-demands\n"
     ]
    }
   ],
   "source": [
    "articles = {}\n",
    "meta = {}\n",
    "for key, value in dct.items():\n",
    "    for elem in set(value[:20]):\n",
    "        if elem.startswith('http'):\n",
    "            url = elem\n",
    "            if elem.count('/') < 5:\n",
    "                continue\n",
    "        else:\n",
    "            if elem.count('/') < 2:\n",
    "                continue\n",
    "            if key.endswith('/') and elem.startswith('/'):\n",
    "                url = key[:-1] + elem\n",
    "            elif not key.endswith('/') and not elem.startswith('/'):\n",
    "                url = key + '/' + elem\n",
    "            else:\n",
    "                url = key + elem\n",
    "        if not url.startswith(key):\n",
    "            continue\n",
    "        print(url)\n",
    "        try:\n",
    "            html = urllib.request.urlopen(url).read().decode('utf-8')\n",
    "        except:\n",
    "            continue\n",
    "        text = ' '.join(re.findall('<p.*?>(.*?)</p>', html, re.DOTALL))\n",
    "        text = re.sub('<.*?>', '', text, 0, re.DOTALL)\n",
    "        text = re.sub('\\n\\n', '\\n', text)\n",
    "        text_meta = ' '.join(re.findall(\"<meta(.*?)/?>\", html, re.DOTALL))\n",
    "        if key in articles:\n",
    "            articles[key].append(text)\n",
    "        else:\n",
    "            articles[key] = [text]\n",
    "        if key in meta:\n",
    "            meta[key].append(text_meta)\n",
    "        else:\n",
    "            meta[key] = [text_meta]"
   ]
  },
  {
   "cell_type": "code",
   "execution_count": 18,
   "metadata": {},
   "outputs": [],
   "source": [
    "unique = set()\n",
    "for key, value in meta.items():\n",
    "    for i, elem in enumerate(value):\n",
    "        elem = re.sub('\\s+', ' ', elem, 0, re.DOTALL).strip()\n",
    "        value[i] = elem\n",
    "        tmp = re.findall('([^ \\\"]*?)=\\\"?[^\\\"]*?\\\"? ', elem)\n",
    "        unique |= set(tmp)"
   ]
  },
  {
   "cell_type": "code",
   "execution_count": 19,
   "metadata": {},
   "outputs": [
    {
     "data": {
      "text/plain": [
       "{'affiliate-data',\n",
       " 'app-argument',\n",
       " 'charset',\n",
       " 'content',\n",
       " 'http-equiv',\n",
       " 'initial-scale',\n",
       " 'itemprop',\n",
       " 'name',\n",
       " 'property',\n",
       " 'user-scalable'}"
      ]
     },
     "execution_count": 19,
     "metadata": {},
     "output_type": "execute_result"
    }
   ],
   "source": [
    "unique"
   ]
  },
  {
   "cell_type": "code",
   "execution_count": 20,
   "metadata": {},
   "outputs": [],
   "source": [
    "meta_full = deepcopy(meta)"
   ]
  },
  {
   "cell_type": "code",
   "execution_count": 21,
   "metadata": {},
   "outputs": [],
   "source": [
    "meta = deepcopy(meta_full)"
   ]
  },
  {
   "cell_type": "code",
   "execution_count": 22,
   "metadata": {},
   "outputs": [],
   "source": [
    "for key, value in meta.items():\n",
    "    for i, w in enumerate(value):\n",
    "        w = re.sub('name=Description', 'name=\"Description\"', w, 0)\n",
    "        tmp = re.findall('([^ ]*?)=\\\"([^\\\"]*?)\\\"' , w)\n",
    "        dct = {}\n",
    "        fl1 = 0\n",
    "        fl2 = 0\n",
    "        for elem in tmp:\n",
    "            if elem[0] in ['charset', 'initial-scale', 'maximum-scale', 'minimum-scale', 'shrink-to-fit', 'user-scalable', 'data-dynamic', 'data-react-helmet', 'affiliate-data']:\n",
    "                dct[elem[0]] = elem[1]\n",
    "            elif elem[0] in ['http-equiv', 'name', 'property', 'itemprop']:\n",
    "                fl1 = 1\n",
    "                if fl2 == 1:\n",
    "                    if elem[1] in dct:\n",
    "                        continue\n",
    "                    dct[elem[1]] = q\n",
    "                    fl1 = 0\n",
    "                    fl2 = 0\n",
    "                else:\n",
    "                    q = elem[1]\n",
    "            elif elem[0] in ['content']:\n",
    "                fl2 = 1\n",
    "                if fl1 == 1:\n",
    "                    if q in dct:\n",
    "                        continue\n",
    "                    dct[q] = elem[1]\n",
    "                    fl1 = 0\n",
    "                    fl2 = 0\n",
    "                else:\n",
    "                    q = elem[1]\n",
    "                    fl2 = 1\n",
    "        value[i] = dct"
   ]
  },
  {
   "cell_type": "code",
   "execution_count": 23,
   "metadata": {},
   "outputs": [
    {
     "data": {
      "text/plain": [
       "dict_keys(['https://www.reuters.com/', 'https://www.afp.com/', 'http://headlinespot.com/', 'https://www.theguardian.com'])"
      ]
     },
     "execution_count": 23,
     "metadata": {},
     "output_type": "execute_result"
    }
   ],
   "source": [
    "meta.keys()"
   ]
  },
  {
   "cell_type": "code",
   "execution_count": 32,
   "metadata": {},
   "outputs": [],
   "source": [
    "unique = set()\n",
    "for key, value in meta.items():\n",
    "    for elem in value:\n",
    "        for inner_key, inner_value in elem.items():\n",
    "            unique |= {inner_key}"
   ]
  },
  {
   "cell_type": "code",
   "execution_count": 36,
   "metadata": {},
   "outputs": [],
   "source": [
    "with open('articles.json', 'w', encoding='utf-8') as f:\n",
    "    json.dump(articles, f)"
   ]
  },
  {
   "cell_type": "code",
   "execution_count": 37,
   "metadata": {},
   "outputs": [],
   "source": [
    "with open('meta.json', 'w', encoding='utf-8') as f:\n",
    "    json.dump(meta, f)"
   ]
  },
  {
   "cell_type": "code",
   "execution_count": 2,
   "metadata": {},
   "outputs": [],
   "source": [
    "dct = {}\n",
    "for media, info in zip(['https://www.reuters.com/', 'https://www.afp.com/', 'http://headlinespot.com/', 'https://www.theguardian.com'], [['Reuters', 'English', 'UK'], ['Agence France-Presse', 'French', 'France'], ['Headline Spot', 'English', 'USA'], ['The Guardian', 'English', 'UK']]):\n",
    "    dct[media] = info"
   ]
  },
  {
   "cell_type": "code",
   "execution_count": 4,
   "metadata": {},
   "outputs": [],
   "source": [
    "with open('info.json', 'w', encoding='utf-8') as f:\n",
    "    json.dump(dct, f)"
   ]
  },
  {
   "cell_type": "code",
   "execution_count": 3,
   "metadata": {},
   "outputs": [
    {
     "data": {
      "text/plain": [
       "{'https://www.reuters.com/': ['Reuters', 'English', 'UK'],\n",
       " 'https://www.afp.com/': ['Agence France-Presse', 'French', 'France'],\n",
       " 'http://headlinespot.com/': ['Headline Spot', 'English', 'USA'],\n",
       " 'https://www.theguardian.com': ['The Guardian', 'English', 'UK']}"
      ]
     },
     "execution_count": 3,
     "metadata": {},
     "output_type": "execute_result"
    }
   ],
   "source": [
    "dct"
   ]
  },
  {
   "cell_type": "code",
   "execution_count": null,
   "metadata": {},
   "outputs": [],
   "source": []
  }
 ],
 "metadata": {
  "kernelspec": {
   "display_name": "Python 3",
   "language": "python",
   "name": "python3"
  },
  "language_info": {
   "codemirror_mode": {
    "name": "ipython",
    "version": 3
   },
   "file_extension": ".py",
   "mimetype": "text/x-python",
   "name": "python",
   "nbconvert_exporter": "python",
   "pygments_lexer": "ipython3",
   "version": "3.6.5"
  }
 },
 "nbformat": 4,
 "nbformat_minor": 2
}
